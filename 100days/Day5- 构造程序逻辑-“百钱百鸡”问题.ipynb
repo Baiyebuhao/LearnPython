{
 "cells": [
  {
   "cell_type": "raw",
   "metadata": {},
   "source": [
    "我国古代数学家张丘建在《算经》一书中提出的数学问题：鸡翁一值钱五，鸡母一值钱三，鸡雏三值钱一。百钱买百鸡，问鸡翁、鸡母、鸡雏各几何？\n",
    "详解\n",
    "答：鸡翁一值钱五——公鸡五文一只，而百钱买百鸡（100文钱买鸡），所以公鸡数量要至少小于20。\n",
    "解：设母鸡x只，公鸡y只，小鸡（100-x-y）只，\n",
    "所以3x+5y+(100-x-y)/3=100\n",
    "且x，y为整数，所以可以得出正确答案：\n",
    "化简：9x+15y+(100-x-y)=300\n",
    "有四种情况符合要求：\n",
    "1.公鸡0只，母鸡25只，小鸡75只\n",
    "2.公鸡4只，母鸡18只，小鸡78只\n",
    "3.公鸡8只，母鸡11只，小鸡81只\n",
    "4.公鸡12只，母鸡4只，小鸡84只"
   ]
  },
  {
   "cell_type": "code",
   "execution_count": 6,
   "metadata": {},
   "outputs": [
    {
     "name": "stdout",
     "output_type": "stream",
     "text": [
      "0 25 75\n",
      "4 18 78\n",
      "8 11 81\n",
      "12 4 84\n"
     ]
    }
   ],
   "source": [
    "import math\n",
    "for m in range(0,101):\n",
    "    for n in range(0,101):\n",
    "        for i in range(0,101):\n",
    "            if 5*m + 3*n + i/3 == 100 and m + n + i == 100:\n",
    "                print(m,n,i)"
   ]
  },
  {
   "cell_type": "code",
   "execution_count": 7,
   "metadata": {},
   "outputs": [
    {
     "name": "stdout",
     "output_type": "stream",
     "text": [
      "0 25 75\n",
      "4 18 78\n",
      "8 11 81\n",
      "12 4 84\n"
     ]
    }
   ],
   "source": [
    "import math\n",
    "for m in range(0,101):\n",
    "    for n in range(0,101):\n",
    "            if 15*m + 9*n + (100-m-n) == 300:\n",
    "                print(m,n,100-m-n)"
   ]
  },
  {
   "cell_type": "code",
   "execution_count": null,
   "metadata": {},
   "outputs": [],
   "source": []
  }
 ],
 "metadata": {
  "kernelspec": {
   "display_name": "Python 3",
   "language": "python",
   "name": "python3"
  },
  "language_info": {
   "codemirror_mode": {
    "name": "ipython",
    "version": 3
   },
   "file_extension": ".py",
   "mimetype": "text/x-python",
   "name": "python",
   "nbconvert_exporter": "python",
   "pygments_lexer": "ipython3",
   "version": "3.7.1"
  }
 },
 "nbformat": 4,
 "nbformat_minor": 2
}
