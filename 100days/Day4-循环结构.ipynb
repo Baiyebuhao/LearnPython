{
 "cells": [
  {
   "cell_type": "raw",
   "metadata": {},
   "source": [
    "for-in循环（知道循环次数）"
   ]
  },
  {
   "cell_type": "markdown",
   "metadata": {},
   "source": [
    "如果明确的知道循环执行的次数或者是要对一个容器进行迭代（后面会讲到），那么我们推荐使用for-in循环\n",
    "\n",
    "计算$\\sum_{n=1}^{100}n$"
   ]
  },
  {
   "cell_type": "code",
   "execution_count": 2,
   "metadata": {},
   "outputs": [
    {
     "name": "stdout",
     "output_type": "stream",
     "text": [
      "5050\n"
     ]
    }
   ],
   "source": [
    "\"\"\"\n",
    "用for循环计算0-100求和\n",
    "\"\"\"\n",
    "sum = 0\n",
    "for x in range (101):\n",
    "    sum += x\n",
    "print(sum)"
   ]
  },
  {
   "cell_type": "code",
   "execution_count": 3,
   "metadata": {},
   "outputs": [
    {
     "name": "stdout",
     "output_type": "stream",
     "text": [
      "4950\n"
     ]
    }
   ],
   "source": [
    "\"\"\"\n",
    "1~99累加\n",
    "\"\"\"\n",
    "sum = 0\n",
    "for x in range (1,100):\n",
    "    sum += x\n",
    "print(sum)"
   ]
  },
  {
   "cell_type": "code",
   "execution_count": 8,
   "metadata": {},
   "outputs": [
    {
     "name": "stdout",
     "output_type": "stream",
     "text": [
      "2402\n"
     ]
    }
   ],
   "source": [
    "\"\"\"\n",
    "1-99奇数序列累加\n",
    "\"\"\"\n",
    "sum = 1\n",
    "for x in range (1,99,2):\n",
    "    sum += x\n",
    "print(sum)"
   ]
  },
  {
   "cell_type": "raw",
   "metadata": {},
   "source": [
    "range类型，range可以用来产生一个不变的数值序列，而且这个序列通常都是用在循环中的\n",
    "-----------------------------------------------------------------------------\n",
    "range(101)可以产生一个0到100的整数序列。\n",
    "range(1, 100)可以产生一个1到99的整数序列。\n",
    "range(1, 100, 2)可以产生一个1到99的奇数序列，其中的2是步长，即数值序列的增量。"
   ]
  },
  {
   "cell_type": "raw",
   "metadata": {},
   "source": [
    "while循环（不知道循环次数）"
   ]
  },
  {
   "cell_type": "raw",
   "metadata": {},
   "source": [
    "通过一个能产生或转换出bool值的表达式来控制循环\n",
    "表达式的值为Ture，循环继续，表达式的值为False循环结束。"
   ]
  },
  {
   "cell_type": "code",
   "execution_count": 3,
   "metadata": {},
   "outputs": [
    {
     "name": "stdout",
     "output_type": "stream",
     "text": [
      "请输入： 100\n",
      "小一点\n",
      "请输入： 50\n",
      "小一点\n",
      "请输入： 25\n",
      "大一点\n",
      "请输入： 37\n",
      "大一点\n",
      "请输入： 43\n",
      "大一点\n",
      "请输入： 46\n",
      "小一点\n",
      "请输入： 44\n",
      "大一点\n",
      "请输入： 45\n",
      "猜对了\n",
      "你猜了8次\n",
      "你的智商余额明显不足\n"
     ]
    }
   ],
   "source": [
    "\"\"\"\n",
    "猜数字游戏\n",
    "计算机出一个1~100之间的随机数由人来猜\n",
    "计算机根据人猜的数字分别给出提示：大一点/小一点/猜对了\n",
    "\"\"\"\n",
    "\n",
    "import random\n",
    "\n",
    "answer = random.randint(1,100)\n",
    "counter = 0\n",
    "while True:\n",
    "    counter += 1\n",
    "    number = int(input('请输入： '))\n",
    "    if number < answer:\n",
    "        print('大一点')\n",
    "    elif number > answer:\n",
    "        print('小一点')\n",
    "    else:\n",
    "        print('猜对了')\n",
    "        break\n",
    "print('你猜了%d次' % counter)\n",
    "if counter > 7:\n",
    "    print('你的智商余额明显不足')"
   ]
  },
  {
   "cell_type": "markdown",
   "metadata": {},
   "source": [
    "break:提前终止循环，但只能终止它所在的那个循环"
   ]
  },
  {
   "cell_type": "code",
   "execution_count": 6,
   "metadata": {},
   "outputs": [
    {
     "name": "stdout",
     "output_type": "stream",
     "text": [
      "1*1=1\t\n",
      "2*1=2\t2*2=4\t\n",
      "3*1=3\t3*2=6\t3*3=9\t\n",
      "4*1=4\t4*2=8\t4*3=12\t4*4=16\t\n",
      "5*1=5\t5*2=10\t5*3=15\t5*4=20\t5*5=25\t\n",
      "6*1=6\t6*2=12\t6*3=18\t6*4=24\t6*5=30\t6*6=36\t\n",
      "7*1=7\t7*2=14\t7*3=21\t7*4=28\t7*5=35\t7*6=42\t7*7=49\t\n",
      "8*1=8\t8*2=16\t8*3=24\t8*4=32\t8*5=40\t8*6=48\t8*7=56\t8*8=64\t\n",
      "9*1=9\t9*2=18\t9*3=27\t9*4=36\t9*5=45\t9*6=54\t9*7=63\t9*8=72\t9*9=81\t\n"
     ]
    }
   ],
   "source": [
    "\"\"\"\n",
    "通过嵌套循环输出九九乘法表\n",
    "\"\"\"\n",
    "\n",
    "for i in range(1,10):\n",
    "    for j in range(1,i + 1):\n",
    "        print('%d*%d=%d' % (i,j,i * j),end='\\t')\n",
    "    print()"
   ]
  },
  {
   "cell_type": "code",
   "execution_count": 8,
   "metadata": {},
   "outputs": [
    {
     "name": "stdout",
     "output_type": "stream",
     "text": [
      "请输入一个正整数： 25\n",
      "25不是素数\n"
     ]
    }
   ],
   "source": [
    "\"\"\"\n",
    "练习1：输入一个数判断是不是素数\n",
    "\"\"\"\n",
    "from math import sqrt\n",
    "\n",
    "num = int(input('请输入一个正整数： '))\n",
    "end = int(sqrt(num))\n",
    "is_prime = True\n",
    "for x in range(2,end +1):\n",
    "    if num % x == 0:\n",
    "        is_prime = False\n",
    "        break\n",
    "if is_prime and num != 1:\n",
    "    print('%d是素数' % num)\n",
    "else:\n",
    "    print('%d不是素数' % num)"
   ]
  },
  {
   "cell_type": "code",
   "execution_count": 10,
   "metadata": {},
   "outputs": [
    {
     "name": "stdout",
     "output_type": "stream",
     "text": [
      "x = 9\n",
      "y = 3\n",
      "3和9的最大公约数是3\n",
      "3和9的最小公倍数是9\n"
     ]
    }
   ],
   "source": [
    "\"\"\"\n",
    "练习2：输入两个正整数，计算最大公约数，和最小公倍数\n",
    "\"\"\"\n",
    "x = int(input('x = '))\n",
    "y = int(input('y = '))\n",
    "if x > y:\n",
    "    x, y = y, x\n",
    "for factor in range(x,0,-1):\n",
    "    if x % factor == 0 and y % factor == 0:\n",
    "        print('%d和%d的最大公约数是%d' % (x,y,factor))\n",
    "        print('%d和%d的最小公倍数是%d' % (x,y,x * y //factor))\n",
    "        break"
   ]
  },
  {
   "cell_type": "code",
   "execution_count": 15,
   "metadata": {},
   "outputs": [
    {
     "name": "stdout",
     "output_type": "stream",
     "text": [
      "请输入行数：5\n",
      "*\n",
      "**\n",
      "***\n",
      "****\n",
      "*****\n",
      "    *\n",
      "   **\n",
      "  ***\n",
      " ****\n",
      "*****\n",
      "    *\n",
      "   ***\n",
      "  *****\n",
      " *******\n",
      "*********\n"
     ]
    }
   ],
   "source": [
    "\"\"\"\n",
    "打印各种三角形图案\n",
    "\n",
    "*\n",
    "**\n",
    "***\n",
    "****\n",
    "*****\n",
    "\n",
    "    *\n",
    "   **\n",
    "  ***\n",
    " ****\n",
    "*****\n",
    "\n",
    "    *\n",
    "   ***\n",
    "  *****\n",
    " *******\n",
    "*********\n",
    "\"\"\"\n",
    "row = int(input('请输入行数：'))\n",
    "for i in range(row):\n",
    "    for _ in range(i + 1):\n",
    "        print('*', end='')\n",
    "    print()\n",
    "\n",
    "\n",
    "for i in range(row):\n",
    "    for j in range(row):\n",
    "        if j < row - i - 1:\n",
    "            print(' ', end='')\n",
    "        else:\n",
    "            print('*',end='')\n",
    "    print()\n",
    "\n",
    "    \n",
    "for i in range(row):\n",
    "    for _ in range (row - i - 1):\n",
    "        print(' ',end='')\n",
    "    for _ in range(2 * i +1):\n",
    "        print('*',end='')\n",
    "    print()"
   ]
  },
  {
   "cell_type": "code",
   "execution_count": null,
   "metadata": {},
   "outputs": [],
   "source": []
  }
 ],
 "metadata": {
  "hide_input": false,
  "kernelspec": {
   "display_name": "Python 3",
   "language": "python",
   "name": "python3"
  },
  "language_info": {
   "codemirror_mode": {
    "name": "ipython",
    "version": 3
   },
   "file_extension": ".py",
   "mimetype": "text/x-python",
   "name": "python",
   "nbconvert_exporter": "python",
   "pygments_lexer": "ipython3",
   "version": "3.7.1"
  },
  "toc": {
   "base_numbering": 1,
   "nav_menu": {},
   "number_sections": true,
   "sideBar": true,
   "skip_h1_title": false,
   "title_cell": "Table of Contents",
   "title_sidebar": "Contents",
   "toc_cell": false,
   "toc_position": {},
   "toc_section_display": true,
   "toc_window_display": false
  },
  "varInspector": {
   "cols": {
    "lenName": 16,
    "lenType": 16,
    "lenVar": 40
   },
   "kernels_config": {
    "python": {
     "delete_cmd_postfix": "",
     "delete_cmd_prefix": "del ",
     "library": "var_list.py",
     "varRefreshCmd": "print(var_dic_list())"
    },
    "r": {
     "delete_cmd_postfix": ") ",
     "delete_cmd_prefix": "rm(",
     "library": "var_list.r",
     "varRefreshCmd": "cat(var_dic_list()) "
    }
   },
   "types_to_exclude": [
    "module",
    "function",
    "builtin_function_or_method",
    "instance",
    "_Feature"
   ],
   "window_display": false
  }
 },
 "nbformat": 4,
 "nbformat_minor": 2
}
