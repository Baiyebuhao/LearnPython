{
 "cells": [
  {
   "cell_type": "raw",
   "metadata": {},
   "source": [
    "Craps赌博游戏\n",
    "玩家摇两颗色子 如果第一次摇出7点或11点 玩家胜\n",
    "如果摇出2点 3点 12点 庄家胜 其他情况游戏继续\n",
    "玩家再次摇色子 如果摇出7点 庄家胜\n",
    "如果摇出第一次摇的点数 玩家胜\n",
    "否则游戏继续 玩家继续摇色子\n",
    "玩家进入游戏时有1000元的赌注 全部输光游戏结束"
   ]
  },
  {
   "cell_type": "code",
   "execution_count": null,
   "metadata": {},
   "outputs": [
    {
     "name": "stdout",
     "output_type": "stream",
     "text": [
      "你的总资产为: 1000\n",
      "请下注： 100\n",
      "玩家摇出了8点\n",
      "玩家摇出了4点\n",
      "玩家摇出了5点\n",
      "玩家摇出了10点\n",
      "玩家摇出了4点\n",
      "玩家摇出了8点\n",
      "玩家胜！\n",
      "你的总资产为: 1100\n"
     ]
    }
   ],
   "source": [
    "from random import randint\n",
    "\n",
    "money = 1000\n",
    "while money > 0:\n",
    "    print('你的总资产为:', money)\n",
    "    needs_go_on = False\n",
    "    while True:\n",
    "        debt = int(input('请下注： '))\n",
    "        if debt > 0 and debt <= money:\n",
    "            break\n",
    "    first = randint(1,6) + randint(1,6)\n",
    "    print('玩家摇出了%d点' %  first)\n",
    "    if first == 7 or first == 11:\n",
    "        print('玩家胜！')\n",
    "        money += debt\n",
    "    elif first == 2 or first == 3 or first == 12:\n",
    "        print('庄家胜！')\n",
    "        money -= debt\n",
    "    else:\n",
    "        needs_go_on = True\n",
    "        \n",
    "    while needs_go_on:\n",
    "        current = randint(1,6) + randint(1,6)\n",
    "        print('玩家摇出了%d点' % current)\n",
    "        if current == 7:\n",
    "            print('庄家胜！')\n",
    "            money -= debt\n",
    "            needs_go_on = False\n",
    "        elif current == first:\n",
    "            print('玩家胜！')\n",
    "            money += debt\n",
    "            needs_go_on = False\n",
    "            \n",
    "print('你破产了，游戏结束！')"
   ]
  }
 ],
 "metadata": {
  "kernelspec": {
   "display_name": "Python 3",
   "language": "python",
   "name": "python3"
  },
  "language_info": {
   "codemirror_mode": {
    "name": "ipython",
    "version": 3
   },
   "file_extension": ".py",
   "mimetype": "text/x-python",
   "name": "python",
   "nbconvert_exporter": "python",
   "pygments_lexer": "ipython3",
   "version": "3.7.1"
  }
 },
 "nbformat": 4,
 "nbformat_minor": 2
}
